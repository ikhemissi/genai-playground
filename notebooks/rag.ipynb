{
 "cells": [
  {
   "cell_type": "markdown",
   "metadata": {},
   "source": [
    "Example based on:\n",
    "- https://github.com/Azure/azure-search-vector-samples/blob/main/demo-python/code/basic-vector-workflow/azure-search-vector-python-sample.ipynb\n",
    "- "
   ]
  },
  {
   "cell_type": "code",
   "execution_count": 10,
   "metadata": {},
   "outputs": [],
   "source": [
    "import os\n",
    "import socket\n",
    "from openai import AzureOpenAI\n",
    "from azure.core.credentials import AzureKeyCredential\n",
    "from dotenv import load_dotenv\n",
    "load_dotenv()\n",
    "\n",
    "openAIClient = AzureOpenAI(\n",
    "  azure_endpoint = os.getenv(\"OPENAI_API_ENDPOINT\"), \n",
    "  api_key=os.getenv(\"OPENAI_API_KEY\"),  \n",
    "  api_version=os.getenv(\"OPENAI_API_VERSION\")\n",
    ")\n",
    "\n",
    "dalleModel = os.getenv(\"DALLE_MODEL\")\n",
    "gpt3TurboModel = os.getenv(\"GPT3_MODEL\")\n",
    "gpt4Model = os.getenv(\"GPT4_MODEL\")\n",
    "visionModel = os.getenv(\"VISION_MODEL\")\n",
    "embeddingsModel = os.getenv(\"EMBEDDINGS_MODEL\")\n",
    "aiSearchEndpoint = os.getenv(\"AI_SEARCH_ENDPOINT\")\n",
    "aiSearchApiKey = AzureKeyCredential(os.getenv(\"AI_SEARCH_ADMIN_KEY\"))\n",
    "aiSearchIndexName = os.getenv(\"AI_SEARCH_INDEX_NAME\") or os.getenv(\"CODESPACE_NAME\") or socket.gethostname()"
   ]
  },
  {
   "cell_type": "code",
   "execution_count": 14,
   "metadata": {},
   "outputs": [
    {
     "name": "stdout",
     "output_type": "stream",
     "text": [
      "Prepared 108 documents\n"
     ]
    }
   ],
   "source": [
    "import json\n",
    "\n",
    "data_source_path = os.path.join(os.curdir, 'data', 'datasource.json')\n",
    "with open(data_source_path, 'r', encoding='utf-8') as file:\n",
    "    documents = json.load(file)\n",
    "\n",
    "titles = [document['title'] for document in documents]\n",
    "content = [document['content'] for document in documents]\n",
    "title_response = openAIClient.embeddings.create(input=titles, model=embeddingsModel)\n",
    "title_embeddings = [document.embedding for document in title_response.data]\n",
    "content_response = openAIClient.embeddings.create(input=content, model=embeddingsModel)\n",
    "content_embeddings = [document.embedding for document in content_response.data]\n",
    "\n",
    "# Generate embeddings for title and content fields\n",
    "for i, document in enumerate(documents):\n",
    "    title = document['title']\n",
    "    content = document['content']\n",
    "    document['titleVector'] = title_embeddings[i]\n",
    "    document['contentVector'] = content_embeddings[i]\n",
    "\n",
    "print(f'Prepared {len(documents)} documents')"
   ]
  },
  {
   "cell_type": "code",
   "execution_count": 18,
   "metadata": {},
   "outputs": [
    {
     "name": "stdout",
     "output_type": "stream",
     "text": [
      "Index ik1234 created!\n"
     ]
    }
   ],
   "source": [
    "from azure.search.documents.indexes import SearchIndexClient\n",
    "from azure.search.documents.indexes.models import (\n",
    "    SimpleField,\n",
    "    SearchFieldDataType,\n",
    "    SearchableField,\n",
    "    SearchField,\n",
    "    VectorSearch,\n",
    "    HnswAlgorithmConfiguration,\n",
    "    VectorSearchProfile,\n",
    "    SemanticConfiguration,\n",
    "    SemanticPrioritizedFields,\n",
    "    SemanticField,\n",
    "    SemanticSearch,\n",
    "    SearchIndex\n",
    ")\n",
    "\n",
    "# Create a search index\n",
    "index_client = SearchIndexClient(endpoint=aiSearchEndpoint, credential=aiSearchApiKey)\n",
    "fields = [\n",
    "    SimpleField(name=\"id\", type=SearchFieldDataType.String, key=True, sortable=True, filterable=True, facetable=True),\n",
    "    SearchableField(name=\"title\", type=SearchFieldDataType.String),\n",
    "    SearchableField(name=\"content\", type=SearchFieldDataType.String),\n",
    "    SearchableField(name=\"category\", type=SearchFieldDataType.String, filterable=True),\n",
    "    SearchField(name=\"titleVector\", type=SearchFieldDataType.Collection(SearchFieldDataType.Single), searchable=True, vector_search_dimensions=3072, vector_search_profile_name=\"myHnswProfile\"),\n",
    "    SearchField(name=\"contentVector\", type=SearchFieldDataType.Collection(SearchFieldDataType.Single), searchable=True, vector_search_dimensions=3072, vector_search_profile_name=\"myHnswProfile\"),\n",
    "]\n",
    "\n",
    "# Configure the vector search configuration  \n",
    "vector_search = VectorSearch(\n",
    "    algorithms=[\n",
    "        HnswAlgorithmConfiguration(\n",
    "            name=\"myHnsw\"\n",
    "        )\n",
    "    ],\n",
    "    profiles=[\n",
    "        VectorSearchProfile(\n",
    "            name=\"myHnswProfile\",\n",
    "            algorithm_configuration_name=\"myHnsw\",\n",
    "        )\n",
    "    ]\n",
    ")\n",
    "\n",
    "semantic_config = SemanticConfiguration(\n",
    "    name=\"my-semantic-config\",\n",
    "    prioritized_fields=SemanticPrioritizedFields(\n",
    "        title_field=SemanticField(field_name=\"title\"),\n",
    "        keywords_fields=[SemanticField(field_name=\"category\")],\n",
    "        content_fields=[SemanticField(field_name=\"content\")]\n",
    "    )\n",
    ")\n",
    "\n",
    "# Create the semantic settings with the configuration\n",
    "semantic_search = SemanticSearch(configurations=[semantic_config])\n",
    "\n",
    "# Create the search index with the semantic settings\n",
    "index = SearchIndex(name=aiSearchIndexName, fields=fields, vector_search=vector_search, semantic_search=semantic_search)\n",
    "result = index_client.create_or_update_index(index)\n",
    "print(f'Index {result.name} created!')"
   ]
  },
  {
   "cell_type": "code",
   "execution_count": 20,
   "metadata": {},
   "outputs": [
    {
     "name": "stdout",
     "output_type": "stream",
     "text": [
      "Indexed 108 documents\n"
     ]
    }
   ],
   "source": [
    "from azure.search.documents import SearchClient\n",
    "\n",
    "search_client = SearchClient(endpoint=aiSearchEndpoint, index_name=aiSearchIndexName, credential=aiSearchApiKey)\n",
    "result = search_client.upload_documents(documents)\n",
    "print(f\"Indexed {len(documents)} documents\")"
   ]
  },
  {
   "cell_type": "code",
   "execution_count": 51,
   "metadata": {},
   "outputs": [
    {
     "name": "stdout",
     "output_type": "stream",
     "text": [
      "Title: Azure DevOps\n",
      "Score: 0.60645723\n",
      "Content: Azure DevOps is a suite of services that help you plan, build, and deploy applications. It includes Azure Boards for work item tracking, Azure Repos for source code management, Azure Pipelines for continuous integration and continuous deployment, Azure Test Plans for manual and automated testing, and Azure Artifacts for package management. DevOps supports a wide range of programming languages, frameworks, and platforms, making it easy to integrate with your existing development tools and processes. It also integrates with other Azure services, such as Azure App Service and Azure Functions.\n",
      "Category: Developer Tools\n",
      "\n",
      "Title: Azure DevTest Labs\n",
      "Score: 0.5913076\n",
      "Content: Azure DevTest Labs is a fully managed service that enables you to create, manage, and share development and test environments in Azure. It provides features like custom templates, cost management, and integration with Azure DevOps. DevTest Labs supports various platforms, such as Windows, Linux, and Kubernetes. You can use Azure DevTest Labs to improve your application development lifecycle, reduce your costs, and ensure the consistency of your environments. It also integrates with other Azure services, such as Azure Virtual Machines and Azure App Service.\n",
      "Category: Developer Tools\n",
      "\n",
      "Title: Azure Application Insights\n",
      "Score: 0.56720346\n",
      "Content: Azure Application Insights is an application performance management service that enables you to monitor, diagnose, and troubleshoot your applications and infrastructure. It provides features like real-time telemetry, dependency mapping, and live metrics. Application Insights supports various platforms, such as .NET, Java, Node.js, and Python. You can use Azure Application Insights to detect and diagnose issues, optimize your performance, and ensure the availability of your applications. It also integrates with other Azure services, such as Azure Monitor and Azure Log Analytics.\n",
      "Category: Management + Governance\n",
      "\n"
     ]
    }
   ],
   "source": [
    "from azure.search.documents.models import VectorizedQuery, VectorFilterMode\n",
    "\n",
    "searchQuery = \"tools for software development\"  \n",
    "  \n",
    "embedding = openAIClient.embeddings.create(input=searchQuery, model=embeddingsModel).data[0].embedding\n",
    "vector_query = VectorizedQuery(vector=embedding, k_nearest_neighbors=3, fields=\"contentVector\")\n",
    "\n",
    "searchResults = search_client.search(  \n",
    "    search_text=None, \n",
    "    # search_text=query, # Hybrid search\n",
    "    vector_queries=[vector_query],\n",
    "    select=[\"id\", \"title\", \"content\", \"category\"],\n",
    "    # vector_filter_mode=VectorFilterMode.PRE_FILTER,\n",
    "    # filter=\"category eq 'Developer Tools'\",\n",
    "    # top=3 # Limit search results\n",
    ")\n",
    "\n",
    "sources = []\n",
    "for result in searchResults:  \n",
    "    print(f\"Id: {result['id']}\")  \n",
    "    print(f\"Title: {result['title']}\")  \n",
    "    print(f\"Score: {result['@search.score']}\")  \n",
    "    print(f\"Content: {result['content']}\")  \n",
    "    print(f\"Category: {result['category']}\\n\")\n",
    "    sources.append({\n",
    "        \"Id\": result['id'],\n",
    "        \"Title\": result['title'],\n",
    "        \"Content\": result['content'],\n",
    "    })"
   ]
  },
  {
   "cell_type": "code",
   "execution_count": 52,
   "metadata": {},
   "outputs": [
    {
     "name": "stdout",
     "output_type": "stream",
     "text": [
      "There are several tools for software development that can be used in conjunction with Azure services. \n",
      "\n",
      "Azure DevOps is a comprehensive suite of services that includes Azure Boards for work item tracking, Azure Repos for source code management, Azure Pipelines for continuous integration and continuous deployment, Azure Test Plans for manual and automated testing, and Azure Artifacts for package management. It supports a wide range of programming languages, frameworks, and platforms, and integrates with other Azure services like Azure App Service and Azure Functions. [Source: Azure DevOps]\n",
      "\n",
      "Azure DevTest Labs is a fully managed service that allows you to create, manage, and share development and test environments on Azure. It provides features like custom templates, cost management, and integration with Azure DevOps. DevTest Labs supports various platforms such as Windows, Linux, and Kubernetes, and integrates with other Azure services like Azure Virtual Machines and Azure App Service. [Source: Azure DevTest Labs]\n",
      "\n",
      "Azure Application Insights is an application performance management service that enables you to monitor, diagnose, and troubleshoot your applications and infrastructure. It offers real-time telemetry, dependency mapping, and live metrics. Application Insights supports multiple platforms such as .NET, Java, Node.js, and Python, and integrates with other Azure services like Azure Monitor and Azure Log Analytics. [Source: Azure Application Insights]\n"
     ]
    }
   ],
   "source": [
    "systemMessage=\"\"\"\n",
    "You are a helpful senior software developer.\n",
    "I will ask you software development related questions and provide you with sources.\n",
    "I expect you to provide a concise response based on the sources which I provided you.\n",
    "Only include my sources in your answers.\n",
    "\"\"\"\n",
    "\n",
    "userMessage=f\"\"\"\n",
    "QUESTION:\n",
    "{searchQuery}\n",
    "------\n",
    "SOURCES:\n",
    "{sources}\n",
    "\"\"\"\n",
    "\n",
    "response = openAIClient.chat.completions.create(\n",
    "  model=gpt3TurboModel,\n",
    "  messages = [\n",
    "    {\"role\": \"system\", \"content\": systemMessage},\n",
    "    {\"role\": \"user\", \"content\": userMessage},\n",
    "])\n",
    "\n",
    "print(response.choices[0].message.content)"
   ]
  },
  {
   "cell_type": "code",
   "execution_count": 86,
   "metadata": {},
   "outputs": [],
   "source": [
    "import requests\n",
    "\n",
    "hrQuery=\"congé paternité\"\n",
    "codeTravailResults = requests.get(\"https://code.travail.gouv.fr/_next/data/IZ6D3hYYuhJr3QgZA94HM/recherche.json\", params={'q': hrQuery}).json()\n"
   ]
  },
  {
   "cell_type": "code",
   "execution_count": 87,
   "metadata": {},
   "outputs": [
    {
     "name": "stdout",
     "output_type": "stream",
     "text": [
      "[{'Id': 'LEGIARTI000006900917', 'Title': 'L1225-35', 'Content': \"Après la naissance de l'enfant et dans un délai déterminé par décret, le père salarié ainsi que, le cas échéant, le conjoint salarié de la mère ou la personne salariée liée à elle par un pacte civil de solidarité ou vivant maritalement avec elle bénéficient d'un congé de paternité et d'accueil de l'enfant de onze jours consécutifs ou de dix-huit jours consécutifs en cas de naissances multiples. Le congé de paternité et d'accueil de l'enfant entraîne la suspension du contrat de travail. Le salarié qui souhaite bénéficier du congé de paternité et d'accueil de l'enfant avertit son employeur au moins un mois avant la date à laquelle il envisage de le prendre, en précisant la date à laquelle il entend y mettre fin. Par dérogation aux trois premiers alinéas, lorsque l'état de santé de l'enfant nécessite son hospitalisation immédiate après la naissance dans une unité de soins spécialisée définie par arrêté des ministres chargés de la santé et de la sécurité sociale, le congé de paternité et d'accueil de l'enfant est de droit pendant la période d'hospitalisation, dans la limite d'une durée maximale déterminée par décret\", 'Url': 'https://www.legifrance.gouv.fr/affichCodeArticle.do;?idArticle=LEGIARTI000042685498&cidTexte=LEGITEXT000006072050'}, {'Id': 'LEGIARTI000018482943', 'Title': 'D1225-8', 'Content': \"Le congé de paternité et d'accueil de l'enfant prévu aux trois premiers alinéas de l'article L. 1225-35 est pris dans les quatre mois suivant la naissance de l'enfant. Le congé peut être reporté au-delà des quatre mois dans l'un des cas suivants : 1° L'hospitalisation de l'enfant. Le congé est pris dans les quatre mois qui suivent la fin de l'hospitalisation ; 2° Le décès de la mère. Le congé est pris dans les quatre mois qui suivent la fin du congé dont bénéficie le père en application de l'article L. 1225-28\", 'Url': 'https://www.legifrance.gouv.fr/affichCodeArticle.do;?idArticle=LEGIARTI000043495230&cidTexte=LEGITEXT000006072050'}, {'Id': 'LEGIARTI000006900918', 'Title': 'L1225-36', 'Content': \"A l'issue du congé de paternité et d'accueil de l'enfant, le salarié retrouve son précédent emploi ou un emploi similaire assorti d'une rémunération au moins équivalente\", 'Url': 'https://www.legifrance.gouv.fr/affichCodeArticle.do;?idArticle=LEGIARTI000026799932&cidTexte=LEGITEXT000006072050'}, {'Id': None, 'Title': 'L1225-35-2', 'Content': \"La durée du congé de paternité et d'accueil de l'enfant est assimilée à une période de travail effectif pour la détermination des droits que le salarié tient de son ancienneté. Le salarié conserve le bénéfice de tous les avantages qu'il avait acquis avant le début du congé\", 'Url': 'https://www.legifrance.gouv.fr/affichCodeArticle.do;?idArticle=LEGIARTI000047285498&cidTexte=LEGITEXT000006072050'}]\n"
     ]
    }
   ],
   "source": [
    "codeTravailSources = []\n",
    "for result in codeTravailResults['pageProps']['items']['articles']:\n",
    "    codeTravailSources.append({\n",
    "        \"Id\": result.get('id', None),\n",
    "        \"Title\": result.get('title', None),\n",
    "        \"Content\": result.get('description', None),\n",
    "        \"Url\": result.get('url', None),\n",
    "    })\n",
    "\n",
    "print(codeTravailSources)"
   ]
  },
  {
   "cell_type": "code",
   "execution_count": 96,
   "metadata": {},
   "outputs": [
    {
     "name": "stdout",
     "output_type": "stream",
     "text": [
      "{\"answer\": \"Le congé de paternité et d'accueil de l'enfant est de onze jours consécutifs, ou de dix-huit jours consécutifs en cas de naissances multiples, selon l'article L1225-35 du Code du travail. Le salarié doit avertir son employeur au moins un mois avant la date à laquelle il souhaite prendre le congé. Ce congé entraîne la suspension du contrat de travail. A l'issue du congé, le salarié retrouve son précédent emploi ou un emploi similaire assorti d'une rémunération au moins équivalente, conformément à l'article L1225-36 du Code du travail. De plus, la durée du congé de paternité est assimilée à une période de travail effectif pour la détermination des droits liés à l'ancienneté, et le salarié conserve tous les avantages acquis avant le début du congé, en vertu de l'article L1225-35-2 du Code du travail.\", \"sources\": [{\"title\": \"L1225-35\", \"url\": \"https://www.legifrance.gouv.fr/affichCodeArticle.do;?idArticle=LEGIARTI000042685498&cidTexte=LEGITEXT000006072050\"}, {\"title\": \"L1225-36\", \"url\": \"https://www.legifrance.gouv.fr/affichCodeArticle.do;?idArticle=LEGIARTI000026799932&cidTexte=LEGITEXT000006072050\"}, {\"title\": \"L1225-35-2\", \"url\": \"https://www.legifrance.gouv.fr/affichCodeArticle.do;?idArticle=LEGIARTI000047285498&cidTexte=LEGITEXT000006072050\"}]}\n"
     ]
    }
   ],
   "source": [
    "hrSystemMessage=\"\"\"\n",
    "You are a helpful human resources assistant.\n",
    "I will ask you an HR related question and provide you with sources from \"Code du travail\" and \"Convention collective\".\n",
    "\"Convention collective\" overrides \"Code du travail\".\n",
    "I expect you to provide a concise response in French based on the sources which I provided you.\n",
    "Only include my sources in your answers.\n",
    "Provide sources used to generate the answer.\n",
    "The response MUST be in JSON and MUST have the format: {\"answer\": \"\", \"sources\": [{\"title\": \"\", \"url\": \"\"}]}\n",
    "\"\"\"\n",
    "\n",
    "hrUserMessage=f\"\"\"\n",
    "QUESTION:\n",
    "{hrQuery}\n",
    "------\n",
    "CONVENTION COLLECTIVE:\n",
    "\n",
    "------\n",
    "CODE DU TRAVAIL:\n",
    "{codeTravailSources}\n",
    "\"\"\"\n",
    "\n",
    "hrResponse = openAIClient.chat.completions.create(\n",
    "  model=gpt3TurboModel,\n",
    "  messages = [\n",
    "    {\"role\": \"system\", \"content\": hrSystemMessage},\n",
    "    {\"role\": \"user\", \"content\": hrUserMessage},\n",
    "  ]\n",
    ")\n",
    "\n",
    "print(hrResponse.choices[0].message.content)"
   ]
  }
 ],
 "metadata": {
  "kernelspec": {
   "display_name": "Python 3 (ipykernel)",
   "language": "python",
   "name": "python3"
  },
  "language_info": {
   "codemirror_mode": {
    "name": "ipython",
    "version": 3
   },
   "file_extension": ".py",
   "mimetype": "text/x-python",
   "name": "python",
   "nbconvert_exporter": "python",
   "pygments_lexer": "ipython3",
   "version": "3.10.13"
  },
  "orig_nbformat": 4
 },
 "nbformat": 4,
 "nbformat_minor": 2
}
