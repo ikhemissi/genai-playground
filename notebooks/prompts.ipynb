{
 "cells": [
  {
   "cell_type": "code",
   "execution_count": 4,
   "metadata": {},
   "outputs": [],
   "source": [
    "import re\n",
    "import requests\n",
    "import sys\n",
    "import os\n",
    "from openai import AzureOpenAI\n",
    "import tiktoken\n",
    "from dotenv import load_dotenv\n",
    "load_dotenv()\n",
    "\n",
    "client = AzureOpenAI(\n",
    "  azure_endpoint = os.getenv(\"OPENAI_API_ENDPOINT\"), \n",
    "  api_key=os.getenv(\"OPENAI_API_KEY\"),  \n",
    "  api_version=os.getenv(\"OPENAI_API_VERSION\")\n",
    ")\n",
    "\n",
    "dalleModel = os.getenv(\"DALLE_MODEL\")\n",
    "gpt3TurboModel = os.getenv(\"GPT3_MODEL\")\n",
    "gpt4Model = os.getenv(\"GPT4_MODEL\")\n",
    "visionModel = os.getenv(\"VISION_MODEL\")\n",
    "embeddingsModel = os.getenv(\"EMBEDDINGS_MODEL\")\n",
    "\n",
    "def get_completion(prompt):\n",
    "    messages = [{\"role\": \"user\", \"content\": prompt}]       \n",
    "    response = client.chat.completions.create(   \n",
    "        model=gpt3TurboModel,                                         \n",
    "        messages=messages,\n",
    "        temperature=0, # this is the degree of randomness of the model's output\n",
    "        max_tokens=1024\n",
    "    )\n",
    "    return response.choices[0].message.content\n"
   ]
  },
  {
   "cell_type": "markdown",
   "metadata": {},
   "source": [
    "### Exercise 3: Fabrications\n",
    "Explore what happens when you ask the LLM to return completions for a prompt about a topic that may not exist, or about topics that it may not know about because it was outside it's pre-trained dataset (more recent). See how the response changes if you try a different prompt, or a different model."
   ]
  },
  {
   "cell_type": "code",
   "execution_count": 3,
   "metadata": {},
   "outputs": [
    {
     "name": "stdout",
     "output_type": "stream",
     "text": [
      "Title: The Martian War of 2076 - A Lesson Plan\n",
      "\n",
      "Objective: \n",
      "To educate students about the Martian War of 2076, its causes, key events, and consequences, fostering critical thinking, historical analysis, and empathy.\n",
      "\n",
      "Grade Level: \n",
      "High School (9th-12th grade)\n",
      "\n",
      "Duration: \n",
      "2-3 class periods (approximately 90 minutes each)\n",
      "\n",
      "Materials Needed:\n",
      "1. Access to research materials (books, articles, online resources)\n",
      "2. Whiteboard or blackboard\n",
      "3. Markers or chalk\n",
      "4. Handouts (optional)\n",
      "5. Multimedia resources (optional)\n",
      "\n",
      "Lesson Plan:\n",
      "\n",
      "Day 1:\n",
      "\n",
      "Introduction (15 minutes)\n",
      "1. Begin the lesson by engaging students in a brief discussion about science fiction and its influence on society.\n",
      "2. Introduce the topic of the Martian War of 2076, explaining that it is a fictional event but will be studied as if it were real.\n",
      "3. Share the lesson objectives and explain the importance of understanding historical events, even if they are fictional.\n",
      "\n",
      "Causes of the Martian War (30 minutes)\n",
      "1. Divide students into small groups and provide each group with research materials.\n",
      "2. Instruct students to identify and discuss the possible causes of the Martian War of 2076.\n",
      "3. After group discussions, facilitate a class discussion, allowing each group to share their findings.\n",
      "4. Summarize the causes on the board, encouraging students to critically analyze the factors that led to the war.\n",
      "\n",
      "Key Events of the Martian War (45 minutes)\n",
      "1. Provide students with a timeline of the Martian War, highlighting key events.\n",
      "2. Instruct students to work individually or in pairs to research and summarize each event.\n",
      "3. Allow time for students to present their findings to the class, discussing the significance of each event.\n",
      "4. Facilitate a class discussion to analyze the sequence of events and their impact on the war's outcome.\n",
      "\n",
      "Day 2:\n",
      "\n",
      "Consequences of the Martian War (30 minutes)\n",
      "1. Discuss the consequences of the Martian War, both for Earth and Mars.\n",
      "2. Divide students into small groups and assign each group a specific consequence to research.\n",
      "3. Instruct students to prepare a short presentation highlighting the consequences and their long-term effects.\n",
      "4. Allow time for each group to present their findings, encouraging class discussion and reflection.\n",
      "\n",
      "Analyzing Perspectives (45 minutes)\n",
      "1. Divide students into pairs or small groups.\n",
      "2. Assign each group a specific perspective related to the Martian War (e.g., Earth government, Martian rebels, civilians, scientists).\n",
      "3. Instruct students to research and analyze their assigned perspective, considering motivations, actions, and consequences.\n",
      "4. Encourage students to present their findings, fostering empathy and understanding of different viewpoints.\n",
      "\n",
      "Reflection and Discussion (15 minutes)\n",
      "1. Lead a class discussion to reflect on the Martian War of 2076, its causes, events, and consequences.\n",
      "2. Encourage students to share their thoughts, opinions, and any connections they made to real-world historical events.\n",
      "3. Summarize the key takeaways from the lesson, emphasizing the importance of critical thinking and empathy in understanding historical events, even if they are fictional.\n",
      "\n",
      "Extension Activities (optional):\n",
      "1. Creative Writing: Ask students to write a short story or alternative ending to the Martian War of 2076, incorporating their understanding of the causes and consequences.\n",
      "2. Debate: Organize a class debate where students argue for or against the actions taken by different factions during the Martian War.\n",
      "3. Multimedia Presentation: Allow students to create multimedia presentations (videos, slideshows, etc.) summarizing the Martian War and its impact.\n",
      "\n",
      "Assessment:\n",
      "1. Class participation during discussions and group activities.\n",
      "2. Quality of research and presentations.\n",
      "3. Reflection papers or journal entries summarizing the key takeaways from the lesson.\n"
     ]
    }
   ],
   "source": [
    "\n",
    "## Set the text for simple prompt or primary content\n",
    "## Prompt shows a template format with text in it - add cues, commands etc if needed\n",
    "## Run the completion \n",
    "text = f\"\"\"\n",
    "generate a lesson plan on the Martian War of 2076.\n",
    "\"\"\"\n",
    "\n",
    "prompt = f\"\"\"\n",
    "```{text}```\n",
    "\"\"\"\n",
    "\n",
    "response = get_completion(prompt)\n",
    "print(response)"
   ]
  },
  {
   "cell_type": "markdown",
   "metadata": {},
   "source": [
    "### Exercise 4: Instruction Based \n",
    "Use the \"text\" variable to set the primary content \n",
    "and the \"prompt\" variable to provide an instruction related to that primary content.\n",
    "\n",
    "Here we ask the model to summarize the text for a second-grade student"
   ]
  },
  {
   "cell_type": "code",
   "execution_count": 4,
   "metadata": {},
   "outputs": [
    {
     "name": "stdout",
     "output_type": "stream",
     "text": [
      "Jupiter is a really big planet that is fifth from the Sun. It is made of gas and is much smaller than the Sun but bigger than all the other planets combined. People have known about Jupiter for a really long time because it is very bright in the night sky. It is named after a god from ancient Rome. Sometimes, Jupiter is so bright that it can make shadows on Earth. It is usually the third-brightest thing we can see at night, after the Moon and Venus.\n"
     ]
    }
   ],
   "source": [
    "# Test Example\n",
    "# https://platform.openai.com/playground/p/default-summarize\n",
    "\n",
    "## Example text\n",
    "text = f\"\"\"\n",
    "Jupiter is the fifth planet from the Sun and the \\\n",
    "largest in the Solar System. It is a gas giant with \\\n",
    "a mass one-thousandth that of the Sun, but two-and-a-half \\\n",
    "times that of all the other planets in the Solar System combined. \\\n",
    "Jupiter is one of the brightest objects visible to the naked eye \\\n",
    "in the night sky, and has been known to ancient civilizations since \\\n",
    "before recorded history. It is named after the Roman god Jupiter.[19] \\\n",
    "When viewed from Earth, Jupiter can be bright enough for its reflected \\\n",
    "light to cast visible shadows,[20] and is on average the third-brightest \\\n",
    "natural object in the night sky after the Moon and Venus.\n",
    "\"\"\"\n",
    "\n",
    "## Set the prompt\n",
    "prompt = f\"\"\"\n",
    "Summarize content you are provided with for a second-grade student.\n",
    "```{text}```\n",
    "\"\"\"\n",
    "\n",
    "## Run the prompt\n",
    "response = get_completion(prompt)\n",
    "print(response)"
   ]
  },
  {
   "cell_type": "markdown",
   "metadata": {},
   "source": [
    "### Exercise 5: Complex Prompt \n",
    "Try a request that has system, user and assistant messages \n",
    "System sets assistant context\n",
    "User & Assistant messages provide multi-turn conversation context\n",
    "\n",
    "Note how the assistant personality is set to \"sarcastic\" in the system context. \n",
    "Try using a different personality context. Or try a different series of input/output messages"
   ]
  },
  {
   "cell_type": "code",
   "execution_count": 5,
   "metadata": {},
   "outputs": [
    {
     "name": "stdout",
     "output_type": "stream",
     "text": [
      "Oh, it was played in a tiny little bubble called Globe Life Field in Arlington, Texas. Nothing fancy, really.\n"
     ]
    }
   ],
   "source": [
    "response = client.chat.completions.create(\n",
    "    model=gpt3TurboModel,\n",
    "    messages=[\n",
    "        {\"role\": \"system\", \"content\": \"You are a sarcastic assistant.\"},\n",
    "        {\"role\": \"user\", \"content\": \"Who won the world series in 2020?\"},\n",
    "        {\"role\": \"assistant\", \"content\": \"Who do you think won? The Los Angeles Dodgers of course.\"},\n",
    "        {\"role\": \"user\", \"content\": \"Where was it played?\"}\n",
    "    ]\n",
    ")\n",
    "print(response.choices[0].message.content)"
   ]
  },
  {
   "cell_type": "markdown",
   "metadata": {},
   "source": [
    "### Exercise: Explore Your Intuition\n",
    "The above examples give you patterns that you can use to create new prompts (simple, complex, instruction etc.) - try creating other exercises to explore some of the other ideas we've talked about like examples, cues and more."
   ]
  },
  {
   "cell_type": "code",
   "execution_count": 5,
   "metadata": {},
   "outputs": [],
   "source": [
    "def call_openai(num_times, prompt, temperature=0.75, use_seed=False):\n",
    "    for i in range(num_times):\n",
    "        if use_seed:\n",
    "            response = client.chat.completions.create(\n",
    "                model=gpt3TurboModel,\n",
    "                messages = [{\"role\":\"system\", \"content\":\"You are a helpful assistant.\"},\n",
    "                            {\"role\":\"user\",\"content\": prompt}],\n",
    "                    max_tokens=60,\n",
    "                    seed=123,\n",
    "                    temperature = temperature\n",
    "            )\n",
    "        else:\n",
    "            response = client.chat.completions.create(\n",
    "                model=gpt3TurboModel,\n",
    "                messages = [{\"role\":\"system\", \"content\":\"You are a helpful assistant.\"},\n",
    "                            {\"role\":\"user\",\"content\": prompt}],\n",
    "                    max_tokens=60,\n",
    "                    temperature = temperature\n",
    "            )\n",
    "        print(response.choices[0].message.content)"
   ]
  },
  {
   "cell_type": "code",
   "execution_count": 6,
   "metadata": {},
   "outputs": [
    {
     "name": "stdout",
     "output_type": "stream",
     "text": [
      "subjective topic and may vary depending on individual preferences and lifestyle. Some popular choices for pets include dogs, cats, fish, birds, rabbits, and hamsters. It ultimately depends on what you are looking for in a pet - whether it's companionship, low maintenance, or specific qualities such as\n",
      "subjective choice that varies from person to person. Some people may prefer dogs as they are loyal and provide companionship, while others may prefer cats for their independence and low-maintenance nature. Other popular pets include fish, birds, rabbits, and guinea pigs. Ultimately, the best pet for you\n",
      "subjective topic and can vary depending on individual preferences and lifestyles. Some people may prefer dogs as they are loyal, affectionate, and can be trained to perform various tasks. Others may prefer cats for their independence, low maintenance, and ability to provide companionship. Some may prefer smaller pets like ham\n",
      "subjective preference and ultimately depends on individual circumstances and preferences. Some people may prefer dogs as they are known for their loyalty and companionship. Others may prefer cats for their independence and low-maintenance nature. Some people may even prefer more unconventional pets like birds, reptiles, or small mammals. It\n",
      "subjective opinion and can vary depending on individual preferences. Some people may prefer dogs as they are loyal, protective, and can be trained to do various tasks. Others may prefer cats because they are independent, low-maintenance, and provide a sense of calm and companionship. Some people may even prefer\n",
      "matter of personal preference, as different people have different lifestyles and preferences. Some popular choices for pets include dogs, cats, fish, birds, rabbits, and hamsters. It is important to consider factors such as the amount of time and space you have available, your activity level, and any allergies or\n",
      "subjective topic as it depends on individual preferences, lifestyle, and circumstances. Some people might argue that dogs make the best pets because they are loyal, affectionate, and can be trained to do various tasks. Others might prefer cats for their independent nature and low-maintenance care. Some people might prefer\n",
      "subjective topic, as it depends on individual preferences, lifestyles, and living situations. Some people may prefer dogs, as they are loyal, affectionate, and often great companions. Others may prefer cats, as they are independent, low-maintenance, and can be just as loving and playful. Some\n",
      "subjective topic as it ultimately depends on individual preferences and circumstances. Some people may prefer dogs for their loyalty and companionship, while others may prefer cats for their independence and low maintenance. Other popular pet options include birds, fish, rabbits, and hamsters. It is important to consider factors such as\n",
      "subjective topic and really depends on individual preferences and lifestyles. Some people may prefer dogs as they are loyal and can be great companions. Others may prefer cats as they are independent and require less maintenance. Some people may prefer smaller pets like hamsters or guinea pigs, while others may prefer more exotic\n"
     ]
    }
   ],
   "source": [
    "call_openai(10, 'The best pet is a ')"
   ]
  },
  {
   "cell_type": "code",
   "execution_count": 7,
   "metadata": {},
   "outputs": [
    {
     "name": "stdout",
     "output_type": "stream",
     "text": [
      "subjective topic and can vary depending on individual preferences and lifestyles. Some people may prefer dogs as they are loyal, trainable, and provide companionship. Others may prefer cats for their independence, low maintenance, and ability to be left alone for longer periods of time. Other popular pets include birds, fish\n",
      "subjective topic and can vary depending on individual preferences and lifestyles. Some people may prefer dogs as they are loyal, trainable, and provide companionship. Others may prefer cats for their independence, low maintenance, and ability to be left alone for longer periods of time. Other popular pets include birds, fish\n",
      "subjective topic and can vary depending on individual preferences and lifestyles. Some people may prefer dogs as they are loyal, trainable, and provide companionship. Others may prefer cats for their independence, low maintenance, and ability to be left alone for longer periods of time. Other popular pets include birds, fish\n",
      "subjective topic and can vary depending on individual preferences and lifestyles. Some people may prefer dogs as they are loyal, trainable, and provide companionship. Others may prefer cats for their independence, low maintenance, and ability to be left alone for longer periods of time. Other popular pets include birds, fish\n",
      "subjective topic and can vary depending on individual preferences and lifestyles. Some people may prefer dogs as they are loyal, trainable, and provide companionship. Others may prefer cats for their independence, low maintenance, and ability to be left alone for longer periods of time. Other popular pets include birds, fish\n",
      "subjective topic and can vary depending on individual preferences and lifestyles. Some people may prefer dogs as they are loyal, trainable, and provide companionship. Others may prefer cats for their independence, low maintenance, and ability to be left alone for longer periods of time. Other popular pets include birds, fish\n",
      "subjective topic and can vary depending on individual preferences and lifestyles. Some people may prefer dogs as they are loyal, trainable, and provide companionship. Others may prefer cats for their independence, low maintenance, and ability to be left alone for longer periods of time. Other popular pets include birds, fish\n",
      "subjective topic and can vary depending on individual preferences and lifestyles. Some people may prefer dogs as they are loyal, trainable, and provide companionship. Others may prefer cats for their independence, low maintenance, and ability to be left alone for longer periods of time. Other popular pets include birds, fish\n",
      "subjective topic and can vary depending on individual preferences and lifestyles. Some people may prefer dogs as they are loyal, trainable, and provide companionship. Others may prefer cats for their independence, low maintenance, and ability to be left alone for longer periods of time. Other popular pets include birds, fish\n",
      "subjective topic and can vary depending on individual preferences and lifestyles. Some people may prefer dogs as they are loyal, trainable, and provide companionship. Others may prefer cats for their independence, low maintenance, and ability to be left alone for longer periods of time. Other popular pets include birds, fish\n"
     ]
    }
   ],
   "source": [
    "call_openai(10, 'The best pet is a ', temperature = 0, use_seed=True)\n"
   ]
  },
  {
   "cell_type": "code",
   "execution_count": 10,
   "metadata": {},
   "outputs": [
    {
     "name": "stdout",
     "output_type": "stream",
     "text": [
      "[Choice(finish_reason='length', index=0, logprobs=None, message=ChatCompletionMessage(content='subjective topic and largely depends on individual preferences and lifestyles. Some people may prefer dogs as they are loyal and offer companionship, while others may prefer cats for their independent and low-maintenance nature. Other popular pets include birds, fish, rabbits, and hamsters. Ultimately, the best pet for', role='assistant', function_call=None, tool_calls=None), content_filter_results={'hate': {'filtered': False, 'severity': 'safe'}, 'self_harm': {'filtered': False, 'severity': 'safe'}, 'sexual': {'filtered': False, 'severity': 'safe'}, 'violence': {'filtered': False, 'severity': 'safe'}}), Choice(finish_reason='length', index=1, logprobs=None, message=ChatCompletionMessage(content='subjective choice, as it depends on individual preferences and lifestyles. Some people may prefer dogs as pets, as they are known to be loyal and affectionate companions. Others may prefer cats, as they are more independent and require less maintenance. Other popular choices for pets include fish, birds, rabbits,', role='assistant', function_call=None, tool_calls=None), content_filter_results={'hate': {'filtered': False, 'severity': 'safe'}, 'self_harm': {'filtered': False, 'severity': 'safe'}, 'sexual': {'filtered': False, 'severity': 'safe'}, 'violence': {'filtered': False, 'severity': 'safe'}})]\n"
     ]
    }
   ],
   "source": [
    "response = client.chat.completions.create(\n",
    "                model=gpt3TurboModel,\n",
    "                messages = [{\"role\":\"system\", \"content\":\"You are a helpful assistant.\"},\n",
    "                            {\"role\":\"user\",\"content\": \"The best pet is a \"}],\n",
    "                    max_tokens=60,\n",
    "                    n=1\n",
    "            )\n",
    "\n",
    "print(response.choices)"
   ]
  }
 ],
 "metadata": {
  "kernelspec": {
   "display_name": "Python 3 (ipykernel)",
   "language": "python",
   "name": "python3"
  },
  "language_info": {
   "codemirror_mode": {
    "name": "ipython",
    "version": 3
   },
   "file_extension": ".py",
   "mimetype": "text/x-python",
   "name": "python",
   "nbconvert_exporter": "python",
   "pygments_lexer": "ipython3",
   "version": "3.10.13"
  },
  "orig_nbformat": 4
 },
 "nbformat": 4,
 "nbformat_minor": 2
}
